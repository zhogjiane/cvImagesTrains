{
 "cells": [
  {
   "cell_type": "code",
   "execution_count": null,
   "metadata": {
    "pycharm": {
     "name": "#%%\n"
    }
   },
   "outputs": [],
   "source": [
    "import cv2\n",
    "# 获取第一个摄像头的视频流\n",
    "cap = cv2.VideoCapture(0)\n",
    "\n",
    "\n",
    "while True:\n",
    "    # 读取视频流的一帧\n",
    "    ret, frame = cap.read()    #ret:是否读取成功，frame:读取的帧\n",
    "    \n",
    "    if ret:\n",
    "        frame = cv2.resize(frame, (0, 0), fx=1.2, fy=1.2) \n",
    "        # 第一个参数frame：要改变尺寸的图像\n",
    "        # 第二个参数(0,0)：改变后图像的大小，如果设置为(0,0)则表示按比例缩放\n",
    "        # 第三个参数fx：缩放图像的宽度倍数，如果为1.2则表示宽度扩大1.2倍\n",
    "        # 第四个参数fy：缩放图像的高度倍数，如果为1.2则表示高度扩大1.2倍\n",
    "        cv2.imshow('video', frame)\n",
    "    else:\n",
    "        break\n",
    "    if cv2.waitKey(10) == ord('q'):\n",
    "        break\n",
    "\n"
   ]
  },
  {
   "cell_type": "code",
   "execution_count": 1,
   "metadata": {
    "collapsed": false,
    "pycharm": {
     "name": "#%%\n"
    }
   },
   "outputs": [
    {
     "name": "stdout",
     "output_type": "stream",
     "text": [
      "(1015, 700, 3)\n"
     ]
    },
    {
     "data": {
      "text/plain": [
       "-1"
      ]
     },
     "execution_count": 1,
     "metadata": {},
     "output_type": "execute_result"
    }
   ],
   "source": [
    "import cv2\n",
    "import numpy as np\n",
    "# 使用np.random代替random\n",
    "img = cv2.imread('colorcolor.jpg')\n",
    "print(img.shape)\n",
    "newImg = img[400:650, 100:500]  # [宽度，高度]\n",
    "# img[400:650, 100:500]中，400:650表示高度，100:500表示宽度 \n",
    "\n",
    "# img = np.empty((300, 300, 3), np.uint8)\n",
    "\n",
    "# for row in range(300):\n",
    "#     for col in range(img.shape[1]):\n",
    "#         img[row][col] = [np.random.randint(0, 256), np.random.randint(0, 256), np.random.randint(0, 256)]\n",
    "\n",
    "\n",
    "cv2.imshow('img', img)\n",
    "cv2.imshow('newImg', newImg)\n",
    "cv2.waitKey(0)"
   ]
  },
  {
   "cell_type": "code",
   "execution_count": null,
   "metadata": {
    "collapsed": false,
    "pycharm": {
     "name": "#%%\n"
    }
   },
   "outputs": [],
   "source": []
  }
 ],
 "metadata": {
  "kernelspec": {
   "display_name": "Python 3.8.5 ('base')",
   "language": "python",
   "name": "python3"
  },
  "language_info": {
   "name": "python",
   "version": "3.8.5"
  },
  "orig_nbformat": 4,
  "vscode": {
   "interpreter": {
    "hash": "e42634819b8c191a5d07eaf23810ff32516dd8d3875f28ec3e488928fbd3c187"
   }
  }
 },
 "nbformat": 4,
 "nbformat_minor": 2
}