{
 "cells": [
  {
   "cell_type": "code",
   "execution_count": null,
   "metadata": {
    "pycharm": {
     "name": "#%%\n"
    }
   },
   "outputs": [],
   "source": [
    "import cv2\n",
    "# 获取第一个摄像头的视频流\n",
    "cap = cv2.VideoCapture(0)\n",
    "\n",
    "\n",
    "while True:\n",
    "    # 读取视频流的一帧\n",
    "    ret, frame = cap.read()    #ret:是否读取成功，frame:读取的帧\n",
    "    \n",
    "    if ret:\n",
    "        frame = cv2.resize(frame, (0, 0), fx=1.2, fy=1.2) \n",
    "        # 第一个参数frame：要改变尺寸的图像\n",
    "        # 第二个参数(0,0)：改变后图像的大小，如果设置为(0,0)则表示按比例缩放\n",
    "        # 第三个参数fx：缩放图像的宽度倍数，如果为1.2则表示宽度扩大1.2倍\n",
    "        # 第四个参数fy：缩放图像的高度倍数，如果为1.2则表示高度扩大1.2倍\n",
    "        cv2.imshow('video', frame)\n",
    "    else:\n",
    "        break\n",
    "    if cv2.waitKey(10) == ord('q'):\n",
    "        break\n",
    "\n"
   ]
  },
  {
   "cell_type": "code",
   "execution_count": 1,
   "metadata": {
    "collapsed": false,
    "pycharm": {
     "name": "#%%\n"
    }
   },
   "outputs": [
    {
     "name": "stdout",
     "output_type": "stream",
     "text": [
      "(1015, 700, 3)\n"
     ]
    },
    {
     "data": {
      "text/plain": [
       "-1"
      ]
     },
     "execution_count": 1,
     "metadata": {},
     "output_type": "execute_result"
    }
   ],
   "source": [
    "import cv2\n",
    "import numpy as np\n",
    "# 使用np.random代替random\n",
    "img = cv2.imread('colorcolor.jpg')\n",
    "print(img.shape)\n",
    "newImg = img[400:650, 100:500]  # [宽度，高度]\n",
    "# img[400:650, 100:500]中，400:650表示高度，100:500表示宽度 \n",
    "\n",
    "# img = np.empty((300, 300, 3), np.uint8)\n",
    "\n",
    "# for row in range(300):\n",
    "#     for col in range(img.shape[1]):\n",
    "#         img[row][col] = [np.random.randint(0, 256), np.random.randint(0, 256), np.random.randint(0, 256)]\n",
    "\n",
    "\n",
    "cv2.imshow('img', img)\n",
    "cv2.imshow('newImg', newImg)\n",
    "cv2.waitKey(0)"
   ]
  },
  {
   "cell_type": "code",
   "execution_count": null,
   "metadata": {
    "collapsed": false,
    "pycharm": {
     "name": "#%%\n"
    }
   },
   "outputs": [],
   "source": [
    "import cv2\n",
    "import numpy as np\n",
    "\n",
    "kernel = np.ones((5, 5), np.uint8)\n",
    "\n",
    "kernel1 = np.ones((5, 5), np.uint8)\n",
    "\n",
    "img = cv2.imread('colorcolor.jpg')# 读取图片\n",
    "\n",
    "img = cv2.resize(img, (0, 0), fx=0.5, fy=0.5)# 缩放图片 0.5倍\n",
    "\n",
    "gray = cv2.cvtColor(img, cv2.COLOR_BGR2GRAY) # 转换为灰度图\n",
    "blur = cv2.GaussianBlur(img, (15, 15), 10) # 高斯模糊\n",
    "# img: The input image to blur. This should be a grayscale or color image.\n",
    "# (15, 15): The kernel size of the Gaussian blur. This specifies the size of the neighborhood around each pixel that will be used to compute the blur. The kernel size should be a positive odd integer. Common choices for the kernel size are 3, 5, 7, and 9, but any odd size can be used. Larger kernel sizes will produce more blur, while smaller kernel sizes will produce less blur.\n",
    "# 10: The standard deviation of the Gaussian kernel. This parameter controls the amount of blur applied to the image. Larger values will produce more blur, while smaller values will produce less blur.\n",
    "# In general, the kernel size and standard deviation are chosen to produce the desired level of blur in the image. The exact range of values for these parameters will depend on the specific implementation of the Gaussian blur function in the OpenCV library.\n",
    "# Img：要模糊的输入图像。这应该是灰度或彩色图像。\n",
    "# (15，15)：高斯模糊的核大小。这指定将用于计算模糊的每个像素周围的邻域大小。内核大小应为正奇数。内核大小的常见选择是3、5、7和9，但可以使用任何奇数大小。较大的内核大小会产生更多的模糊，而较小的内核大小会产生较少的模糊。\n",
    "# 10：高斯核的标准偏差。此参数控制应用于图像的模糊量。较大的值将产生更多的模糊，而较小的值将产生较少的模糊。\n",
    "# 通常，选择核大小和标准差以在图像中产生所需级别的模糊。这些参数值的确切范围将取决于OpenCV库中高斯模糊函数的特定实现。\n",
    "\n",
    "canny = cv2.Canny(img, 200, 250)# 边缘检测\n",
    "dilate = cv2.dilate(canny, kernel, iterations=1) # 膨胀\n",
    "erode = cv2.erode(dilate, kernel1, iterations=1)# 腐蚀\n",
    "# cv2.imshow('img', img)\n",
    "# cv2.imshow('gray', gray)\n",
    "# cv2.imshow('blur', blur)\n",
    "cv2.imshow('canny', canny)\n",
    "cv2.imshow('dilate', dilate)\n",
    "cv2.imshow('erode', erode)\n",
    "cv2.waitKey(0)\n"
   ]
  },
  {
   "cell_type": "code",
   "execution_count": null,
   "outputs": [],
   "source": [
    "import cv2\n",
    "import numpy as np\n",
    "\n",
    "img = np.zeros((600, 600, 3), np.uint8)\n",
    "cv2.line(img, (0, 0), (img.shape[1], img.shape[0]), (0, 255, 0), 2)\n",
    "cv2.rectangle(img, (0, 0), (400, 300), (0, 0, 255), cv2.FILLED)\n",
    "cv2.circle(img, (300, 400), 30, (255, 0, 0), cv2.FILLED)\n",
    "cv2.putText(img, '你好', (100, 500), cv2.FONT_HERSHEY_SIMPLEX, 2, (255, 255, 255), 2)\n",
    "\n",
    "\n",
    "cv2.imshow('img', img)\n",
    "cv2.waitKey(0)"
   ],
   "metadata": {
    "collapsed": false,
    "pycharm": {
     "name": "#%%\n"
    }
   }
  },
  {
   "cell_type": "code",
   "execution_count": null,
   "metadata": {},
   "outputs": [],
   "source": [
    "import cv2\n",
    "import numpy as np\n",
    "\n",
    "img = np.zeros((600, 600, 3), np.uint8)\n",
    "cv2.line(img, (0, 0), (img.shape[1], img.shape[0]), (0, 255, 0), 2)\n",
    "cv2.rectangle(img, (0, 0), (400, 300), (0, 0, 255), cv2.FILLED)\n",
    "cv2.circle(img, (300, 400), 30, (255, 0, 0), cv2.FILLED)\n",
    "cv2.putText(img, '你好', (100, 500), cv2.FONT_HERSHEY_SIMPLEX, 2, (255, 255, 255), 2)\n",
    "\n",
    "\n",
    "cv2.imshow('img', img)\n",
    "cv2.waitKey(0)"
   ]
  }
 ],
 "metadata": {
  "kernelspec": {
   "display_name": "Python 3.8.5 ('base')",
   "language": "python",
   "name": "python3"
  },
  "language_info": {
   "name": "python",
   "version": "3.8.5"
  },
  "orig_nbformat": 4,
  "vscode": {
   "interpreter": {
    "hash": "e42634819b8c191a5d07eaf23810ff32516dd8d3875f28ec3e488928fbd3c187"
   }
  }
 },
 "nbformat": 4,
 "nbformat_minor": 2
}